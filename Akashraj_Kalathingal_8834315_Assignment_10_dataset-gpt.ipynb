{
 "cells": [
  {
   "cell_type": "code",
   "execution_count": 1,
   "metadata": {},
   "outputs": [],
   "source": [
    "import pandas as pd\n",
    "import json\n",
    "import matplotlib.pyplot as plt\n",
    "import seaborn as sns\n",
    "from sklearn.model_selection import train_test_split\n",
    "from sklearn.svm import SVC\n",
    "from sklearn.ensemble import RandomForestClassifier\n",
    "from sklearn.metrics import accuracy_score, precision_score, recall_score, f1_score, confusion_matrix\n",
    "\n"
   ]
  },
  {
   "cell_type": "code",
   "execution_count": 2,
   "metadata": {},
   "outputs": [],
   "source": [
    "# Task 1: Read JSONL and convert to DataFrame\n",
    "data = []\n",
    "with open(\"datasets/small-117M.train.jsonl\", \"r\") as f:\n",
    "    for line in f:\n",
    "        data.append(json.loads(line))\n",
    "\n",
    "\n"
   ]
  },
  {
   "cell_type": "code",
   "execution_count": 4,
   "metadata": {},
   "outputs": [],
   "source": [
    "# Convert data to DataFrame\n",
    "gpt_df = pd.DataFrame(data)\n",
    "\n"
   ]
  },
  {
   "cell_type": "code",
   "execution_count": 6,
   "metadata": {},
   "outputs": [
    {
     "name": "stdout",
     "output_type": "stream",
     "text": [
      "            id                                               text  length  \\\n",
      "0            1  is one of many that have been struggling with ...    1024   \n",
      "1            2  refine. 135 SHARES Share Tweet\\n\\nIt is tumult...    1024   \n",
      "2            3  The fate of a pig was not decided until now, b...    1024   \n",
      "3            4  DoJ's scheduled attacks are started without E+...     795   \n",
      "4            5  - Virginian Journal blog\\n\\nTHE PRESIDENT OF T...    1024   \n",
      "...        ...                                                ...     ...   \n",
      "249995  249996  \\nYou know, somebody has got to get it sorted ...    1024   \n",
      "249996  249997  The scenes of citizens of Kannam got very full...     504   \n",
      "249997  249998  86 x 36 cm\\n\\nPrint\\n\\n2 Prep Time 20 mins Coo...      68   \n",
      "249998  249999  Orio on line. In his 1997 novel 'The Dark Towe...     792   \n",
      "249999  250000  ? Yes, please leave us a comment if you think ...      15   \n",
      "\n",
      "        ended  \n",
      "0       False  \n",
      "1       False  \n",
      "2       False  \n",
      "3        True  \n",
      "4       False  \n",
      "...       ...  \n",
      "249995  False  \n",
      "249996   True  \n",
      "249997   True  \n",
      "249998   True  \n",
      "249999   True  \n",
      "\n",
      "[250000 rows x 4 columns]\n"
     ]
    }
   ],
   "source": [
    "print(gpt_df)"
   ]
  },
  {
   "cell_type": "code",
   "execution_count": 7,
   "metadata": {},
   "outputs": [
    {
     "name": "stdout",
     "output_type": "stream",
     "text": [
      "   id                                               text  length  ended\n",
      "0   1  is one of many that have been struggling with ...    1024  False\n",
      "1   2  refine. 135 SHARES Share Tweet\\n\\nIt is tumult...    1024  False\n",
      "2   3  The fate of a pig was not decided until now, b...    1024  False\n",
      "3   4  DoJ's scheduled attacks are started without E+...     795   True\n",
      "4   5  - Virginian Journal blog\\n\\nTHE PRESIDENT OF T...    1024  False\n"
     ]
    }
   ],
   "source": [
    "# Task 2: Data Exploration with Python\n",
    "# View the first few rows of the dataset\n",
    "print(gpt_df.head())\n",
    "\n"
   ]
  },
  {
   "cell_type": "code",
   "execution_count": 8,
   "metadata": {},
   "outputs": [
    {
     "name": "stdout",
     "output_type": "stream",
     "text": [
      "\n",
      "Generate summary statistics\n",
      "\n",
      "                  id         length\n",
      "count  250000.000000  250000.000000\n",
      "mean   125000.500000     683.446612\n",
      "std     72168.927986     376.414341\n",
      "min         1.000000       0.000000\n",
      "25%     62500.750000     310.000000\n",
      "50%    125000.500000     874.000000\n",
      "75%    187500.250000    1024.000000\n",
      "max    250000.000000    1112.000000\n",
      "\n"
     ]
    }
   ],
   "source": [
    "# Generate summary statistics\n",
    "print()\n",
    "print(\"Generate summary statistics\")\n",
    "print()\n",
    "print(gpt_df.describe())\n",
    "print()\n",
    "\n"
   ]
  },
  {
   "cell_type": "code",
   "execution_count": 9,
   "metadata": {},
   "outputs": [
    {
     "name": "stdout",
     "output_type": "stream",
     "text": [
      "\n",
      "Identify data types and missing values\n",
      "\n",
      "<class 'pandas.core.frame.DataFrame'>\n",
      "RangeIndex: 250000 entries, 0 to 249999\n",
      "Data columns (total 4 columns):\n",
      " #   Column  Non-Null Count   Dtype \n",
      "---  ------  --------------   ----- \n",
      " 0   id      250000 non-null  int64 \n",
      " 1   text    250000 non-null  object\n",
      " 2   length  250000 non-null  int64 \n",
      " 3   ended   250000 non-null  bool  \n",
      "dtypes: bool(1), int64(2), object(1)\n",
      "memory usage: 6.0+ MB\n",
      "None\n",
      "\n"
     ]
    }
   ],
   "source": [
    "# Identify data types and missing values\n",
    "print()\n",
    "print(\"Identify data types and missing values\")\n",
    "print()\n",
    "print(gpt_df.info())\n",
    "print()\n",
    "\n"
   ]
  },
  {
   "cell_type": "code",
   "execution_count": 10,
   "metadata": {},
   "outputs": [
    {
     "name": "stdout",
     "output_type": "stream",
     "text": [
      "\n",
      "Visualize the data distribution\n",
      "\n"
     ]
    },
    {
     "data": {
      "image/png": "[encoded data removed]",
      "text/plain": [
       "<Figure size 640x480 with 1 Axes>"
      ]
     },
     "metadata": {},
     "output_type": "display_data"
    }
   ],
   "source": [
    "# Visualize the data distribution\n",
    "print()\n",
    "print(\"Visualize the data distribution\")\n",
    "print()\n",
    "\n",
    "sns.histplot(gpt_df['length'], bins=20, kde=True)\n",
    "plt.title('Length Distribution')\n",
    "plt.xlabel('Length')\n",
    "plt.ylabel('Count')\n",
    "plt.show()\n",
    "\n"
   ]
  },
  {
   "cell_type": "code",
   "execution_count": 11,
   "metadata": {},
   "outputs": [
    {
     "name": "stdout",
     "output_type": "stream",
     "text": [
      "Check for missing values in the dataset\n",
      "\n",
      "id        0\n",
      "text      0\n",
      "length    0\n",
      "ended     0\n",
      "dtype: int64\n",
      "\n",
      "Post Data pre processing\n",
      "\n",
      "   id                                               text  length  ended\n",
      "0   1  is one of many that have been struggling with ...    1024  False\n",
      "1   2  refine. 135 SHARES Share Tweet\\n\\nIt is tumult...    1024  False\n",
      "2   3  The fate of a pig was not decided until now, b...    1024  False\n",
      "3   4  DoJ's scheduled attacks are started without E+...     795   True\n",
      "4   5  - Virginian Journal blog\\n\\nTHE PRESIDENT OF T...    1024  False\n",
      "\n",
      "Implement Machine Learning Models with Python\n",
      "\n",
      "\n",
      "SVM Model\n",
      "SVC(kernel='linear', random_state=42)\n",
      "\n",
      "\n",
      "Random Forest Model\n",
      "RandomForestClassifier(random_state=42)\n",
      "\n",
      "SVM Model:\n",
      "Model Evaluation:\n",
      "Accuracy: 1.00\n",
      "Precision: 1.00\n",
      "Recall: 1.00\n",
      "F1 Score: 1.00\n",
      "Confusion Matrix:\n",
      "[[22645     0]\n",
      " [   54 27301]]\n",
      "Random Forest Model:\n",
      "Model Evaluation:\n",
      "Accuracy: 1.00\n",
      "Precision: 1.00\n",
      "Recall: 1.00\n",
      "F1 Score: 1.00\n",
      "Confusion Matrix:\n",
      "[[22645     0]\n",
      " [   13 27342]]\n",
      "\n",
      "Visualization with Python\n",
      "SVC(kernel='linear', random_state=42)\n",
      "\n"
     ]
    },
    {
     "data": {
      "image/png": "[encoded data removed]",
      "text/plain": [
       "<Figure size 600x400 with 1 Axes>"
      ]
     },
     "metadata": {},
     "output_type": "display_data"
    }
   ],
   "source": [
    "# Task 3: Data Preprocessing with Python\n",
    "# Check for missing values in the dataset\n",
    "print(\"Check for missing values in the dataset\")\n",
    "print()\n",
    "print(gpt_df.isnull().sum())\n",
    "print()\n",
    "\n"
   ]
  },
  {
   "cell_type": "code",
   "execution_count": 12,
   "metadata": {},
   "outputs": [
    {
     "name": "stdout",
     "output_type": "stream",
     "text": [
      "Post Data pre processing\n",
      "\n",
      "   id                                               text  length  ended\n",
      "0   1  is one of many that have been struggling with ...    1024  False\n",
      "1   2  refine. 135 SHARES Share Tweet\\n\\nIt is tumult...    1024  False\n",
      "2   3  The fate of a pig was not decided until now, b...    1024  False\n",
      "3   4  DoJ's scheduled attacks are started without E+...     795   True\n",
      "4   5  - Virginian Journal blog\\n\\nTHE PRESIDENT OF T...    1024  False\n",
      "\n"
     ]
    }
   ],
   "source": [
    "# Handle missing values in the \"length\" column by replacing with the median\n",
    "gpt_df[\"length\"].fillna(gpt_df[\"length\"].median(), inplace=True)\n",
    "\n",
    "print(\"Post Data pre processing\")\n",
    "print()\n",
    "print(gpt_df.head(5))\n",
    "print()"
   ]
  },
  {
   "cell_type": "code",
   "execution_count": 13,
   "metadata": {},
   "outputs": [
    {
     "name": "stdout",
     "output_type": "stream",
     "text": [
      "Implement Machine Learning Models with Python\n",
      "\n"
     ]
    }
   ],
   "source": [
    "# Task 4: Implement Machine Learning Models with Python\n",
    "print(\"Implement Machine Learning Models with Python\")\n",
    "print()\n",
    "# Separate features (X) and target (y)\n",
    "X = gpt_df.drop(columns=[\"id\", \"text\", \"ended\"])\n",
    "y = gpt_df[\"ended\"]\n",
    "\n",
    "# Split the data into training and testing sets\n",
    "X_train, X_test, y_train, y_test = train_test_split(X, y, test_size=0.2, random_state=42)\n"
   ]
  },
  {
   "cell_type": "code",
   "execution_count": 14,
   "metadata": {},
   "outputs": [
    {
     "name": "stdout",
     "output_type": "stream",
     "text": [
      "\n",
      "SVM Model\n",
      "SVC(kernel='linear', random_state=42)\n",
      "\n"
     ]
    }
   ],
   "source": [
    "\n",
    "# Create and fit the SVM model\n",
    "svm_model = SVC(kernel='linear', C=1.0, random_state=42)\n",
    "svm_model.fit(X_train, y_train)\n",
    "\n",
    "print()\n",
    "print(\"SVM Model\")\n",
    "print(svm_model)\n",
    "print()\n",
    "\n"
   ]
  },
  {
   "cell_type": "code",
   "execution_count": 15,
   "metadata": {},
   "outputs": [
    {
     "name": "stdout",
     "output_type": "stream",
     "text": [
      "\n",
      "Random Forest Model\n",
      "RandomForestClassifier(random_state=42)\n",
      "\n"
     ]
    }
   ],
   "source": [
    "# Create and fit the Random Forest model\n",
    "rf_model = RandomForestClassifier(n_estimators=100, random_state=42)\n",
    "rf_model.fit(X_train, y_train)\n",
    "\n",
    "print()\n",
    "print(\"Random Forest Model\")\n",
    "print(rf_model)\n",
    "print()"
   ]
  },
  {
   "cell_type": "code",
   "execution_count": 16,
   "metadata": {},
   "outputs": [],
   "source": [
    "# Function to evaluate the model\n",
    "def evaluate_model(model, X_test, y_test):\n",
    "    # Evaluation metrics\n",
    "    y_pred = model.predict(X_test)\n",
    "    accuracy = accuracy_score(y_test, y_pred)\n",
    "    precision = precision_score(y_test, y_pred)\n",
    "    recall = recall_score(y_test, y_pred)\n",
    "    f1 = f1_score(y_test, y_pred)\n",
    "    confusion = confusion_matrix(y_test, y_pred)\n",
    "\n",
    "    # Print evaluation results\n",
    "    print(\"Model Evaluation:\")\n",
    "    print(f\"Accuracy: {accuracy:.2f}\")\n",
    "    print(f\"Precision: {precision:.2f}\")\n",
    "    print(f\"Recall: {recall:.2f}\")\n",
    "    print(f\"F1 Score: {f1:.2f}\")\n",
    "    print(\"Confusion Matrix:\")\n",
    "    print(confusion)"
   ]
  },
  {
   "cell_type": "code",
   "execution_count": 17,
   "metadata": {},
   "outputs": [
    {
     "name": "stdout",
     "output_type": "stream",
     "text": [
      "SVM Model:\n",
      "Model Evaluation:\n",
      "Accuracy: 1.00\n",
      "Precision: 1.00\n",
      "Recall: 1.00\n",
      "F1 Score: 1.00\n",
      "Confusion Matrix:\n",
      "[[22645     0]\n",
      " [   54 27301]]\n"
     ]
    }
   ],
   "source": [
    "# Evaluate the SVM model\n",
    "print(\"SVM Model:\")\n",
    "evaluate_model(svm_model, X_test, y_test)"
   ]
  },
  {
   "cell_type": "code",
   "execution_count": 18,
   "metadata": {},
   "outputs": [
    {
     "name": "stdout",
     "output_type": "stream",
     "text": [
      "Random Forest Model:\n",
      "Model Evaluation:\n",
      "Accuracy: 1.00\n",
      "Precision: 1.00\n",
      "Recall: 1.00\n",
      "F1 Score: 1.00\n",
      "Confusion Matrix:\n",
      "[[22645     0]\n",
      " [   13 27342]]\n"
     ]
    }
   ],
   "source": [
    "# Evaluate the Random Forest model\n",
    "print(\"Random Forest Model:\")\n",
    "evaluate_model(rf_model, X_test, y_test)"
   ]
  },
  {
   "cell_type": "code",
   "execution_count": 19,
   "metadata": {},
   "outputs": [
    {
     "name": "stdout",
     "output_type": "stream",
     "text": [
      "\n",
      "Visualization with Python\n",
      "SVC(kernel='linear', random_state=42)\n",
      "\n"
     ]
    }
   ],
   "source": [
    "# Task 5: Visualization with Python\n",
    "\n",
    "# Data Visualization\n",
    "print()\n",
    "print(\"Visualization with Python\")\n",
    "print(svm_model)\n",
    "print()"
   ]
  },
  {
   "cell_type": "code",
   "execution_count": 20,
   "metadata": {},
   "outputs": [
    {
     "data": {
      "image/png": "[encoded data removed]",
      "text/plain": [
       "<Figure size 600x400 with 1 Axes>"
      ]
     },
     "metadata": {},
     "output_type": "display_data"
    }
   ],
   "source": [
    "\n",
    "plt.figure(figsize=(6, 4))\n",
    "sns.countplot(x=\"ended\", data=gpt_df)\n",
    "plt.title(\"Ended Count\")\n",
    "plt.xlabel(\"Ended\")\n",
    "plt.ylabel(\"Count\")\n",
    "plt.show()"
   ]
  }
 ],
 "metadata": {
  "kernelspec": {
   "display_name": "Python 3",
   "language": "python",
   "name": "python3"
  },
  "language_info": {
   "codemirror_mode": {
    "name": "ipython",
    "version": 3
   },
   "file_extension": ".py",
   "mimetype": "text/x-python",
   "name": "python",
   "nbconvert_exporter": "python",
   "pygments_lexer": "ipython3",
   "version": "3.10.11"
  },
  "orig_nbformat": 4
 },
 "nbformat": 4,
 "nbformat_minor": 2
}
